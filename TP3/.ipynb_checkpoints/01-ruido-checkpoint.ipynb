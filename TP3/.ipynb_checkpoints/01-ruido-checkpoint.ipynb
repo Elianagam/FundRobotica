{
 "cells": [
  {
   "cell_type": "markdown",
   "metadata": {},
   "source": [
    "# Ruido\n",
    "\n",
    "### -1. Sacar fotos con el objetivo tapado\n",
    "### 0. Repaso: Ruido Blanco\n",
    "### 1. Leer fotos\n",
    "### 2. Inspección\n",
    "### 3. Ruido en el campo del sensor\n",
    "#### 3.1. Ruido por color y por píxel\n",
    "#### 3.2. Estadísticas de ruido: relación entre media y desvío\n",
    "### 4. Histograma"
   ]
  },
  {
   "cell_type": "markdown",
   "metadata": {},
   "source": [
    "# 0. Repaso: Ruido Blanco\n",
    "\n",
    "Vamos a generar un poco de ruido y medirlo, para entender qué hacemos después.\n",
    "Repasar qué era la distribución \"normal\" (Campana de Gauss), qué significan \"media\" y \"desvío\" y cómo trabajamos con esas cosas en python con numpy."
   ]
  },
  {
   "cell_type": "code",
   "execution_count": null,
   "metadata": {
    "pycharm": {
     "name": "#%%\n"
    }
   },
   "outputs": [],
   "source": [
    "import numpy as np\n",
    "import matplotlib.pyplot as plt\n",
    "\n",
    "\n",
    "n_muestras = 500000\n",
    "\n",
    "media = 20\n",
    "std = 10\n",
    "x = np.random.normal(media, std, n_muestras)\n",
    "\n",
    "y = x\n",
    "\n",
    "n_show = np.min([n_muestras, 100])\n",
    "\n",
    "plt.axhline(color='k')\n",
    "plt.grid()\n",
    "\n",
    "plt.plot(y[:n_show], 'o:')\n",
    "plt.plot([0, n_show], [media, media])\n",
    "plt.plot([0, n_show], [media-std, media-std])\n",
    "plt.plot([0, n_show], [media+std, media+std])"
   ]
  },
  {
   "cell_type": "markdown",
   "metadata": {},
   "source": [
    "$$ f(x) = \\frac{1}{\\sqrt{2\\pi}\\sigma} e^{-\\frac{1}{2}(\\frac{x-\\mu}{\\sigma})^2} $$"
   ]
  },
  {
   "cell_type": "code",
   "execution_count": null,
   "metadata": {
    "pycharm": {
     "name": "#%%\n"
    }
   },
   "outputs": [],
   "source": [
    "h, bins, patches = plt.hist(y, bins=100)\n",
    "bin_max = np.argmax(h)\n",
    "h_max = h[bin_max]\n",
    "\n",
    "plt.grid()\n",
    "plt.plot([media, media], [0, h_max], 'o-')\n",
    "plt.plot([media+std, media+std], [0, h_max*.635], 'o-')\n",
    "plt.plot([media-std, media-std], [0, h_max*.635], 'o-')\n",
    "\n",
    "media_est = np.mean(y)\n",
    "std_est = np.std(y)\n",
    "\n",
    "plt.plot([media_est, media_est], [0, h_max], 'v:')\n",
    "plt.plot([media_est+std_est, media_est+std_est], [0, h_max*.635], 'v:')\n",
    "plt.plot([media_est-std_est, media_est-std_est], [0, h_max*.635], 'v:')\n",
    "\n",
    "error_en_media_est = (media - media_est)\n",
    "print('Diferencia entre media y media estimada =', error_en_media_est)                \n",
    "\n",
    "\n"
   ]
  },
  {
   "cell_type": "code",
   "execution_count": null,
   "metadata": {
    "pycharm": {
     "name": "#%%\n"
    }
   },
   "outputs": [],
   "source": [
    "# Cargamos las bibliotecas que usamos casi siempre\n",
    "\n",
    "import cv2\n",
    "import numpy as np\n",
    "import matplotlib.pyplot as plt\n",
    "%matplotlib inline\n",
    "print('OpenCV ' + cv2.__version__)\n",
    "print('numpy ' + np.__version__)"
   ]
  },
  {
   "cell_type": "markdown",
   "metadata": {},
   "source": [
    "# 1. Análisis Global Estadístico\n",
    "## 1.1. Capturar fotos con la cámara tapada y cargarlas\n",
    "ponerlas en el subdirectorio \"fotos\""
   ]
  },
  {
   "cell_type": "code",
   "execution_count": null,
   "metadata": {
    "pycharm": {
     "name": "#%%\n"
    }
   },
   "outputs": [],
   "source": [
    "# !ls -lh fotos\n",
    "# Leemos lista de fotos que vamos a procesar\n",
    "# glob nos permite crear lista con nombres de archivo en un directorio\n",
    "from glob import glob\n",
    "img_fnames = glob('./fotos/*.jpg')\n",
    "print(img_fnames)"
   ]
  },
  {
   "cell_type": "code",
   "execution_count": null,
   "metadata": {
    "pycharm": {
     "name": "#%%\n"
    }
   },
   "outputs": [],
   "source": [
    "# Vamos a mostrar una de las fotos a ver qué salió, ¡tendría que ser todo negro!\n",
    "\n",
    "img = cv2.imread(img_fnames[0])\n",
    "\n",
    "# pasamos a RGB (acuérdense que OpenCV usa BGR!)\n",
    "img_rgb = cv2.cvtColor(img, cv2.COLOR_BGR2RGB)\n",
    "plt.imshow(img_rgb)"
   ]
  },
  {
   "cell_type": "code",
   "execution_count": null,
   "metadata": {
    "pycharm": {
     "name": "#%%\n"
    }
   },
   "outputs": [],
   "source": [
    "# Viendo la imagen que salió notamos que está bien que sea toda negra, pero está vertical en vez de apaisada...\n",
    "# !exiftool fotos/1.jpg | egrep Width\n",
    "print(\"img.shape =\", img_rgb.shape)\n",
    "print(\"La transponemos:\")\n",
    "img_t = cv2.transpose(img_rgb)\n",
    "alto = img_t.shape[0]\n",
    "ancho = img_t.shape[1]\n",
    "print(\"alto = {0}px, ancho = {1}px\".format(alto, ancho)) # img.shape = (alto, ancho)\n",
    "plt.imshow(img_t)"
   ]
  },
  {
   "cell_type": "code",
   "execution_count": null,
   "metadata": {
    "pycharm": {
     "name": "#%%\n"
    }
   },
   "outputs": [],
   "source": [
    "# ¡Ahora sí!\n",
    "# Vamos a leer todas en memoria, pasarlas a RGB y de paso asegurarnos que estén apaisadas.\n",
    "# (si van a trabajar con muchas imágenes entonces mejor no leerlas todas de una, \n",
    "# al que quiera profundizar puede pensar cómo modifcar lo que sigue para procesar muchas imágenes\n",
    "# o también puede leer acerca de generadores (\"python generators\").\n",
    "\n",
    "imgs = []\n",
    "for fname in img_fnames:\n",
    "    img = cv2.imread(fname)\n",
    "    img = cv2.cvtColor(img, cv2.COLOR_BGR2RGB)\n",
    "    if img.shape[0] > img.shape[1]:\n",
    "        img = cv2.transpose(img)\n",
    "    imgs.append(img)\n",
    "\n",
    "print(\"Se cargaron {0} imágenes\".format(len(imgs)))\n"
   ]
  },
  {
   "cell_type": "markdown",
   "metadata": {},
   "source": [
    "# 2. Inspección"
   ]
  },
  {
   "cell_type": "code",
   "execution_count": null,
   "metadata": {
    "pycharm": {
     "name": "#%%\n"
    }
   },
   "outputs": [],
   "source": [
    "# Ahora vamos a empezar a investigar un poco qué capturó nuestro sensor... ya vimos que sale todo negro, pero ¿qué tan negro es ese color negro?\n",
    "\n",
    "# vamos a agarrar una imagen al azar, por ejemplo la 3era:\n",
    "img = imgs[2]\n",
    "# y ver el menor valor de intensidad que registró\n",
    "print(\"Menor intensidad =\", np.min([img]))\n",
    "# esperablemente ese valor debe ser 0, ¿pero el máximo?\n",
    "print(\"Mayor intensidad =\", np.max([img]))\n",
    "# es distinto de cero!!\n"
   ]
  },
  {
   "cell_type": "code",
   "execution_count": null,
   "metadata": {
    "pycharm": {
     "name": "#%%\n"
    }
   },
   "outputs": [],
   "source": [
    "# Ok, podemos normalizar la imágen a ver qué pasó\n",
    "\n",
    "img_norm = cv2.normalize(img, 0, 255, norm_type=cv2.NORM_INF)\n",
    "# ojo acá al normalizar es común usar NORM_MINMAX, si el mínimo de la imagen es 0 entonces son lo mismo, pero si llegara a ser distinto de cero entonces NORM_MINMAX correría el mínimo a cero y perderíamos información de ruido, en este caso sería un offset. NORM_INF nos da la norma infinito de la matriz (el máximo de los valores absolutos de los elementos).\n",
    "print(\"Mayor intensidad =\", np.max([img_norm]))\n",
    "\n",
    "plt.imshow(img_norm)\n",
    "# bueno ahora díganme si era todo tan negro como parecía..."
   ]
  },
  {
   "cell_type": "markdown",
   "metadata": {},
   "source": [
    "# 3. Ruido en el campo del sensor"
   ]
  },
  {
   "cell_type": "code",
   "execution_count": null,
   "metadata": {
    "pycharm": {
     "name": "#%%\n"
    }
   },
   "outputs": [],
   "source": [
    "# Vamos a ver qué pasa si promediamos sobre varias fotos.\n",
    "\n",
    "# esto que sigue se puede hacer en una sola línea con numpy... ¿Quién se anima?\n",
    "img_promedio = np.zeros_like(imgs[0])\n",
    "n = len(imgs)\n",
    "for img in imgs:\n",
    "    # este siguiente paso es medio una barbaridad y se presta a errores de conversion de tipo pero es lo más \"didáctico\" para ver qué estamos haciendo...\n",
    "    img_promedio = img_promedio + img/n\n",
    "\n",
    "# convertimos de nuevo a char\n",
    "img_promedio = img_promedio.astype(np.uint8)\n",
    "\n",
    "plt.imshow(img_promedio)\n",
    "# ¿sigue siendo todo negro...?"
   ]
  },
  {
   "cell_type": "code",
   "execution_count": null,
   "metadata": {
    "pycharm": {
     "name": "#%%\n"
    }
   },
   "outputs": [],
   "source": [
    "# a ver si lo normalizamos...\n",
    "img_promedio_norm = cv2.normalize(img_promedio, 0, 255, norm_type=cv2.NORM_INF)\n",
    "plt.imshow(img_promedio_norm)\n"
   ]
  },
  {
   "cell_type": "markdown",
   "metadata": {},
   "source": [
    "## 3.1. Ruido por color y por píxel"
   ]
  },
  {
   "cell_type": "code",
   "execution_count": null,
   "metadata": {
    "pycharm": {
     "name": "#%%\n"
    }
   },
   "outputs": [],
   "source": [
    "# de nuevo esto se puede hacer en menos líneas usando cuentas a lo largo de dimensiones con numpy, se animan a optimizarlo?\n",
    "\n",
    "# OK si tarda mucho cancelen y vayan a la celda que sigue\n",
    "\n",
    "# img_media = np.zeros((alto, ancho, 3))\n",
    "# img_std = np.zeros((alto, ancho, 3))\n",
    "# for fil in range(ancho):\n",
    "#     for col in range(alto):\n",
    "#         for c in range(3):\n",
    "#             valores = []\n",
    "#             for img in imgs:\n",
    "#                 valores.append(img[col, fil, c])\n",
    "#             # img_media[fil, col, c] = np.mean(valores)\n",
    "#             img_std[fil, col,c ] = np.std(valores)\n",
    "\n",
    "# plt.imshow(img_media)"
   ]
  },
  {
   "cell_type": "code",
   "execution_count": null,
   "metadata": {
    "pycharm": {
     "name": "#%%\n"
    }
   },
   "outputs": [],
   "source": [
    "# Ok, si lo de arriba les tarda una eternidad entonces hacemos esto otro:\n",
    "\n",
    "# acá lo que hacemos es apilar todas las imágenes:\n",
    "imgs_np = np.stack(imgs)\n",
    "\n",
    "# Media:\n",
    "img_media = np.mean(imgs_np, axis=0)\n",
    "\n",
    "# desvío:\n",
    "img_std = np.std(imgs_np, axis=0)\n",
    "\n",
    "print(imgs_np.shape)\n",
    "# para ver los resultados vamos a dibujar contornos:"
   ]
  },
  {
   "cell_type": "code",
   "execution_count": null,
   "metadata": {},
   "outputs": [],
   "source": [
    "print(img_media.shape)\n",
    "print(img_std.shape)"
   ]
  },
  {
   "cell_type": "code",
   "execution_count": null,
   "metadata": {
    "pycharm": {
     "name": "#%%\n"
    }
   },
   "outputs": [],
   "source": [
    "def dibujar_contorno(mat):\n",
    "    fig = plt.figure()\n",
    "    X, Y = np.meshgrid(range(ancho), range(alto))\n",
    "    Z = mat\n",
    "\n",
    "    # decimación para no matar la compu calculando contornos!\n",
    "    dec = 16\n",
    "\n",
    "    fig = plt.figure(figsize=(16,12))\n",
    "    cp = plt.contourf(X[::dec], Y[::dec], Z[::dec])\n",
    "    fig.colorbar(cp)\n",
    "    plt.show()"
   ]
  },
  {
   "cell_type": "code",
   "execution_count": null,
   "metadata": {
    "pycharm": {
     "name": "#%%\n"
    }
   },
   "outputs": [],
   "source": [
    "print('Std Rojo')\n",
    "dibujar_contorno(img_std[:,:,0])"
   ]
  },
  {
   "cell_type": "code",
   "execution_count": null,
   "metadata": {
    "pycharm": {
     "name": "#%%\n"
    }
   },
   "outputs": [],
   "source": [
    "print('Std Verde')\n",
    "dibujar_contorno(img_std[:,:,1])"
   ]
  },
  {
   "cell_type": "code",
   "execution_count": null,
   "metadata": {
    "pycharm": {
     "name": "#%%\n"
    }
   },
   "outputs": [],
   "source": [
    "print('Std Azul')\n",
    "dibujar_contorno(img_std[:,:,2])"
   ]
  },
  {
   "cell_type": "code",
   "execution_count": null,
   "metadata": {
    "pycharm": {
     "name": "#%%\n"
    }
   },
   "outputs": [],
   "source": [
    "print('Media Rojo')\n",
    "dibujar_contorno(img_media[:,:,0])"
   ]
  },
  {
   "cell_type": "code",
   "execution_count": null,
   "metadata": {
    "pycharm": {
     "name": "#%%\n"
    }
   },
   "outputs": [],
   "source": [
    "print('Media Verde')\n",
    "dibujar_contorno(img_media[:,:,1])"
   ]
  },
  {
   "cell_type": "code",
   "execution_count": null,
   "metadata": {
    "pycharm": {
     "name": "#%%\n"
    }
   },
   "outputs": [],
   "source": [
    "print('Media Azul')\n",
    "dibujar_contorno(img_media[:,:,2])"
   ]
  },
  {
   "cell_type": "markdown",
   "metadata": {},
   "source": [
    "## 3.2. Estadísticas de ruido: relación entre media y desvío"
   ]
  },
  {
   "cell_type": "code",
   "execution_count": null,
   "metadata": {
    "pycharm": {
     "name": "#%%\n"
    },
    "scrolled": false
   },
   "outputs": [],
   "source": [
    "# a esta altura ya vios que el negro no es un solo color uniforme.\n",
    "# ahora vamos a ver estadísticas globales de ruido de todos los píxeles por color\n",
    "\n",
    "dec = 100\n",
    "\n",
    "todos_los_rojos_std = np.ravel(img_std[:,:,0])\n",
    "todos_los_rojos_media = np.ravel(img_media[:,:,0])\n",
    "\n",
    "todos_los_verdes_std = np.ravel(img_std[:,:,1])\n",
    "todos_los_verdes_media = np.ravel(img_media[:,:,1])\n",
    "\n",
    "todos_los_azules_std = np.ravel(img_std[:,:,2])\n",
    "todos_los_azules_media = np.ravel(img_media[:,:,2])\n",
    "\n",
    "plt.figure(figsize=(10,10))\n",
    "plt.xlabel('media')\n",
    "plt.ylabel('desvío')\n",
    "cb = plt.hist2d(todos_los_rojos_media[::dec], todos_los_rojos_std[::dec], bins=100)\n",
    " # plt.colorbar(cb)\n",
    "\n",
    "plt.figure(figsize=(10,10))\n",
    "plt.xlabel('media')\n",
    "plt.ylabel('desvío')\n",
    "cb = plt.hist2d(todos_los_verdes_media[::dec], todos_los_verdes_std[::dec], bins=100)\n",
    " # plt.colorbar(cb)\n",
    "\n",
    "plt.figure(figsize=(10,10))\n",
    "plt.xlabel('media')\n",
    "plt.ylabel('desvío')\n",
    "cb = plt.hist2d(todos_los_azules_media[::dec], todos_los_azules_std[::dec], bins=100)\n",
    " # plt.colorbar(cb)"
   ]
  },
  {
   "cell_type": "markdown",
   "metadata": {},
   "source": [
    "# 4. Histograma"
   ]
  },
  {
   "cell_type": "code",
   "execution_count": null,
   "metadata": {
    "pycharm": {
     "name": "#%%\n"
    }
   },
   "outputs": [],
   "source": [
    "dec = 100\n",
    "plt.figure(figsize=(10,10))\n",
    "plt.title('Histograma')\n",
    "todos_los_rojos = np.ravel(imgs_np[:,:,:,0])\n",
    "todos_los_verdes = np.ravel(imgs_np[:,:,:,1])\n",
    "todos_los_azules = np.ravel(imgs_np[:,:,:,2])\n",
    "plt.grid()\n",
    "i_max = 50\n",
    "_ = plt.hist(todos_los_rojos[::dec], bins=range(i_max), color='red',histtype='step', linewidth=2.0)\n",
    "_ = plt.hist(todos_los_verdes[::dec], bins=range(i_max), color='green', histtype='step', linewidth=2.0)\n",
    "_ = plt.hist(todos_los_azules[::dec], bins=range(i_max), color='blue', histtype='step', linewidth=2.0)\n",
    "\n",
    "_ = plt.hist(np.ravel(imgs_np)[::dec], bins=range(i_max), color='black', histtype='step', linewidth=2.0)\n",
    "plt.legend(['rojo', 'verde', 'azul', 'total'])\n",
    "\n",
    "# sigue: perfiles\n",
    "\n",
    "\n"
   ]
  },
  {
   "cell_type": "code",
   "execution_count": null,
   "metadata": {},
   "outputs": [],
   "source": []
  }
 ],
 "metadata": {
  "kernelspec": {
   "display_name": "Python 3",
   "language": "python",
   "name": "python3"
  },
  "language_info": {
   "codemirror_mode": {
    "name": "ipython",
    "version": 3
   },
   "file_extension": ".py",
   "mimetype": "text/x-python",
   "name": "python",
   "nbconvert_exporter": "python",
   "pygments_lexer": "ipython3",
   "version": "3.8.5"
  }
 },
 "nbformat": 4,
 "nbformat_minor": 1
}
