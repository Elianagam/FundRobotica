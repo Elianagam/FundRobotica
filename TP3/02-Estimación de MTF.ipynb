{
 "cells": [
  {
   "cell_type": "code",
   "execution_count": null,
   "metadata": {
    "hide_input": true,
    "pycharm": {
     "name": "#%% nd\n"
    }
   },
   "outputs": [],
   "source": [
    "# MTF\n",
    "\n",
    "## 0. Reveer Ruido\n",
    "## 1. Generar Patrón\n",
    "## 1.99 Cargar Patrón\n",
    "## 2. Inspeccionar Patrón\n",
    "## 3. Medir\n",
    "\n",
    "# chusmear: https://www.youtube.com/watch?v=VKYEIxTVCGE"
   ]
  },
  {
   "cell_type": "markdown",
   "metadata": {},
   "source": [
    "# Estimación de MTF\n",
    "\n",
    "## Resumen\n",
    "### 0. Repaso frecuencia y respuesta en frecuencia de sistemas\n",
    "### 1. Generar patrón\n",
    "### 2. Adquirir patrón\n",
    "### 3. Preprocesar muestra\n",
    "### 4. Extraer MTF\n",
    "### 5. Para explorar..."
   ]
  },
  {
   "cell_type": "code",
   "execution_count": null,
   "metadata": {
    "code_folding": [],
    "hide_input": false,
    "pycharm": {
     "name": "#%%\n"
    }
   },
   "outputs": [],
   "source": [
    "# Cargamos las bibliotecas que usamos casi siempre\n",
    "\n",
    "import cv2\n",
    "import numpy as np\n",
    "import matplotlib.pyplot as plt\n",
    "%matplotlib inline\n",
    "print('OpenCV ' + cv2.__version__)\n",
    "print('numpy ' + np.__version__)"
   ]
  },
  {
   "cell_type": "markdown",
   "metadata": {},
   "source": [
    "## 0. Repaso frecuencia y respuesta en frecuencia de sistemas + 1. Generar patrón"
   ]
  },
  {
   "cell_type": "code",
   "execution_count": null,
   "metadata": {
    "code_folding": [],
    "hide_input": false,
    "pycharm": {
     "name": "#%%\n"
    }
   },
   "outputs": [],
   "source": [
    "# Generar ondas cuadradas para generar el patrón\n",
    "\n",
    "def generar_onda_cuadrada(largo, periodo):\n",
    "    # Generar una onda cuadrada con cantdidad de puntos 'largo' y período 'período'.\n",
    "    # consejo: la función 'mod(a, b)' nos dá el resto de dividir a/b como enteros\n",
    "    # https://numpy.org/doc/stable/reference/generated/numpy.mod.html\n",
    "    #\n",
    "\n",
    "\n",
    "    return onda_cuadrada\n",
    "\n",
    "plt.plot(generar_onda_cuadrada(largo=100, periodo=14), ':o')\n"
   ]
  },
  {
   "cell_type": "code",
   "execution_count": null,
   "metadata": {
    "code_folding": []
   },
   "outputs": [],
   "source": [
    "n_rep = 8\n",
    "largo_max = 10\n",
    "ys = []\n",
    "\n",
    "anchos =       [ 2, 4, 8,16,32,64]\n",
    "repeticiones = [32,16, 8, 4, 2, 1]\n",
    "# repeticiones = [ 100, 0, 0, 0, 0, 0]\n",
    "\n",
    "\n",
    "for a, r in zip(anchos, repeticiones):\n",
    "    ys.append(generar_onda_cuadrada(a*r, a))\n",
    "\n",
    "y = np.hstack(ys)\n",
    "n_samples = len(y)\n",
    "\n",
    "t = np.linspace(0, n_samples, n_samples)\n",
    "\n",
    "\n",
    "n_show = n_samples//10\n",
    "plt.figure(figsize=(10,4))\n",
    "plt.grid()\n",
    "# plt.plot(t[:n_show], y[:n_show], ':o')\n",
    "plt.plot(y, ':o')\n"
   ]
  },
  {
   "cell_type": "code",
   "execution_count": null,
   "metadata": {
    "hide_input": false
   },
   "outputs": [],
   "source": [
    "y_f = np.fft.fft(y)\n",
    "\n",
    "ancho_pantalla = 1920\n",
    "f = np.linspace(0, 1, n_samples)\n",
    "\n",
    "plt.figure(figsize=(16,4))\n",
    "plt.grid()\n",
    "\n",
    "plt.ylabel('|fft(y)|')\n",
    "plt.plot(f, np.abs(y_f)/n_samples)\n",
    "plt.xlabel('f');\n",
    "\n",
    "x = [1/(a) for a in anchos]\n",
    "labels = [a for a in anchos]\n",
    "plt.figure(figsize=(16,4))\n",
    "plt.ylabel('|fft(y)|')\n",
    "plt.grid()\n",
    "n_show = n_samples\n",
    "plt.plot(f[:n_show], np.abs(y_f[:n_show])/n_samples , ':o')\n",
    "plt.xticks(x, labels);\n",
    "plt.xlabel('P');\n"
   ]
  },
  {
   "cell_type": "code",
   "execution_count": null,
   "metadata": {},
   "outputs": [],
   "source": [
    "## 1. Generar patrón"
   ]
  },
  {
   "cell_type": "code",
   "execution_count": null,
   "metadata": {
    "code_folding": [],
    "pycharm": {
     "name": "#%%\n"
    }
   },
   "outputs": [],
   "source": [
    "# ajustar según pantalla donde se saca la foto, poner la resolución del monitor\n",
    "\n",
    "# full hd (1080p)\n",
    "# ancho_pantalla = 1920\n",
    "# alto_pantalla = 1080\n",
    "\n",
    "# # típico notebooks:\n",
    "# ancho_pantalla = 1368\n",
    "# alto_pantalla = 768\n",
    "\n",
    "# alguien tiene pantalla \"retina\" o 4k?\n",
    "ancho_pantalla = \n",
    "alto_pantalla = \n",
    "\n",
    "alto_franja_central_px = 40\n",
    "\n",
    "oscuro = 64\n",
    "claro = 192\n",
    "\n",
    "medio = (claro+oscuro)/2\n",
    "amplitud = (claro-oscuro)/2\n",
    "\n",
    "onda = medio + amplitud*y\n",
    "\n",
    "centro_izq = 255*np.ones((alto_franja_central_px, ancho_pantalla//2))\n",
    "centro_der =   0*np.ones((alto_franja_central_px, ancho_pantalla//2 - len(onda)))\n",
    "\n",
    "arriba = claro*np.ones((alto_pantalla//2 - alto_franja_central_px//2, ancho_pantalla))\n",
    "centro = np.hstack((centro_izq, np.tile(onda, (alto_franja_central_px, 1)), centro_der))\n",
    "abajo = oscuro*np.ones((alto_pantalla//2 - alto_franja_central_px//2, ancho_pantalla))\n",
    "\n",
    "patron_mtf = np.vstack((arriba, centro, abajo)).astype(np.uint8)\n",
    "\n",
    "patron_mtf = cv2.cvtColor(patron_mtf, cv2.COLOR_GRAY2RGB)\n",
    "\n",
    "plt.imshow(patron_mtf)\n",
    "cv2.imwrite('patron_mtf.png', patron_mtf)"
   ]
  },
  {
   "cell_type": "markdown",
   "metadata": {},
   "source": [
    "![title](patron_mtf.png)"
   ]
  },
  {
   "cell_type": "markdown",
   "metadata": {},
   "source": [
    "## 2. Adquirir patrón\n",
    "\n",
    "Poner la imagen que generaron a pantalla completa y sacar foto.\n",
    "Consejos para la foto:\n",
    "1. en condiciones de bastante luz ambiente así no sale \"quemada\"\n",
    "2. distancia como para que el teléfono no muestre detalle de los píxeles\n",
    "3. horizontal y centrada en el patrón\n",
    "4. sacar varias de una y transferirlas de lo posible no via Google Fotos o Whatsapp o equivalente para evitar distorsiones por compresión (de lo posible conectar el celular o tarjeta de memoria a la compu)."
   ]
  },
  {
   "cell_type": "code",
   "execution_count": null,
   "metadata": {
    "hide_input": false,
    "pycharm": {
     "name": "#%%\n"
    }
   },
   "outputs": [],
   "source": [
    "mtf_leer = cv2.imread('./fotos/mtf.jpg')\n",
    "\n",
    "# pasamos a gris\n",
    "mtf_leido_gray = cv2.cvtColor(mtf_leer, cv2.COLOR_BGR2GRAY)\n",
    "\n",
    "plt.imshow(mtf_leido_gray, cmap='gray')"
   ]
  },
  {
   "cell_type": "markdown",
   "metadata": {},
   "source": [
    "## 3. Preprocesar muestra"
   ]
  },
  {
   "cell_type": "code",
   "execution_count": null,
   "metadata": {
    "code_folding": [],
    "hide_input": false,
    "scrolled": false
   },
   "outputs": [],
   "source": [
    "# Buscar de pegarle con un corte a la zona del mtf\n",
    "ajustar_linea_mtf = cv2.cvtColor(mtf_leido_gray//4, cv2.COLOR_GRAY2RGB)\n",
    "\n",
    "ancho_foto = mtf_leido_gray.shape[1]\n",
    "\n",
    "fila_mtf = 1500\n",
    "zoom = 1600\n",
    "\n",
    "# rellenar con principio y fin del patrón mtf en la foto:\n",
    "columnas_mtf = slice( , )\n",
    "\n",
    "ajustar_linea_mtf[fila_mtf, columnas_mtf, 0] = 255\n",
    "\n",
    "plt.figure(figsize=(16,9));\n",
    "plt.imshow(ajustar_linea_mtf);\n"
   ]
  },
  {
   "cell_type": "code",
   "execution_count": null,
   "metadata": {
    "code_folding": [],
    "pycharm": {
     "name": "#%%\n"
    },
    "scrolled": false
   },
   "outputs": [],
   "source": [
    "# generar algunos trazados para ver qué hay en esa línea\n",
    "plt.figure(figsize=(10,4))\n",
    "plt.plot(mtf_leido_gray[fila_mtf,:])\n",
    "\n",
    "zoom = 1000\n",
    "plt.figure(figsize=(10,4))\n",
    "plt.plot(mtf_leido_gray[fila_mtf, columnas_mtf])\n",
    "\n",
    "plt.figure(figsize=(10,4))\n",
    "zoom = 100\n",
    "plt.plot(mtf_leido_gray[fila_mtf, columnas_mtf])"
   ]
  },
  {
   "cell_type": "code",
   "execution_count": null,
   "metadata": {
    "code_folding": [],
    "hide_input": false
   },
   "outputs": [],
   "source": [
    "# refinamos el corte\n",
    "zoom = 1000\n",
    "fila_mtf = 1500\n",
    "\n",
    "columnas_mtf = slice((ancho_foto//2-zoom//2), (ancho_foto//2+zoom//2))\n"
   ]
  },
  {
   "cell_type": "code",
   "execution_count": null,
   "metadata": {
    "code_folding": [],
    "pycharm": {
     "name": "#%%\n"
    }
   },
   "outputs": [],
   "source": [
    "# dibujamos con más detalle el corte\n",
    "\n",
    "y_est = mtf_leido_gray[fila_mtf, columnas_mtf]\n",
    "\n",
    "plt.figure(figsize=(10,4))\n",
    "plt.plot(y_est)"
   ]
  },
  {
   "cell_type": "code",
   "execution_count": null,
   "metadata": {},
   "outputs": [],
   "source": [
    "# Generamos gráfico para leer donde cortar para recuperar la estimación de la y de arriba\n",
    "\n",
    "# por ahí si no quedó perfectamente centrado necesitan otro valor diferente de +/- 35:\n",
    "claro_est = mtf_leido_gray[fila_mtf-35, columnas_mtf]\n",
    "oscuro_est = mtf_leido_gray[fila_mtf+35, columnas_mtf]\n",
    "\n",
    "%matplotlib notebook\n",
    "plt.figure(figsize=(10,4))\n",
    "plt.plot(y_est)\n",
    "plt.plot(claro_est)\n",
    "plt.plot(oscuro_est)"
   ]
  },
  {
   "cell_type": "code",
   "execution_count": null,
   "metadata": {},
   "outputs": [],
   "source": [
    "# Leer del gráfico de arriba\n",
    "\n",
    "k_start =  \n",
    "k_end = \n",
    "\n",
    "y_est_r = y_est[k_start:k_end] \n",
    "\n",
    "%matplotlib notebook\n",
    "plt.figure(figsize=(10,4))\n",
    "plt.grid()\n",
    "plt.plot(y_est_r)\n",
    "\n"
   ]
  },
  {
   "cell_type": "code",
   "execution_count": null,
   "metadata": {},
   "outputs": [],
   "source": [
    "# llenar con bordes medidos del gráfico:\n",
    "bordes= [ ......\n",
    "         \n",
    "%matplotlib inline\n",
    "plt.figure(figsize=(10,4))\n",
    "plt.grid()\n",
    "plt.plot(y_est_r)\n",
    "\n",
    "for b in bordes:\n",
    "    plt.plot([b, b], [0, 255], ':k')\n"
   ]
  },
  {
   "cell_type": "markdown",
   "metadata": {},
   "source": [
    "## 4. Extraer MTF"
   ]
  },
  {
   "cell_type": "code",
   "execution_count": null,
   "metadata": {
    "code_folding": [],
    "hide_input": false
   },
   "outputs": [],
   "source": [
    "# comparamos con la función que le \"metimos de entrada\" al sistema\n",
    "%matplotlib inline\n",
    "plt.figure(figsize=(16,4))\n",
    "plt.grid()\n",
    "plt.plot(y_est_r)\n",
    "\n",
    "# -9,455 son offsets para que quede bien, cambiarlo según lo que obtuvieron\n",
    "offset_l = -9\n",
    "offset_r = 455\n",
    "\n",
    "x_est=np.linspace(offset_l,offset_r,len(onda))\n",
    "plt.plot(x_est, onda, ':*')"
   ]
  },
  {
   "cell_type": "code",
   "execution_count": null,
   "metadata": {
    "code_folding": [],
    "hide_input": false
   },
   "outputs": [],
   "source": [
    "# idem normalizado\n",
    "%matplotlib inline\n",
    "plt.figure(figsize=(16,4))\n",
    "plt.grid()\n",
    "plt.plot((y_est_r-np.min(y_est_r))/(np.max(y_est_r)-np.min(y_est_r)))\n",
    "x_est=np.linspace(offset_l,offset_r,len(onda))\n",
    "plt.plot(x_est, (onda-np.min(onda))/(np.max(onda)-np.min(onda)), ':*')"
   ]
  },
  {
   "cell_type": "code",
   "execution_count": null,
   "metadata": {
    "code_folding": [],
    "hide_input": false,
    "scrolled": true
   },
   "outputs": [],
   "source": [
    "# Sacar fotos y tomar nota de la geometría de cómo tomaron la foto en particular distancia al monitor \n",
    "# y ángulo subtendido por zona usada para calcular mtf:\n",
    "distancia_monitor_mm = 20.000km\n",
    "ancho_zona_mtf_mm = 1nm\n",
    "\n",
    "# Calcular ángulo que genera la zona usada para medir mtf (cateto menor en la pantalla \n",
    "# y cateto mayor distancia entre cámara y pantalla)\n",
    "angulo_zona_mtf_deg = np.arctan2(ancho_zona_mtf_mm, distancia_monitor_mm)*180/np.pi\n",
    "ancho_zona_mtf_px = len(y_est_r)\n",
    "\n",
    "\n",
    "\n"
   ]
  },
  {
   "cell_type": "code",
   "execution_count": null,
   "metadata": {
    "code_folding": []
   },
   "outputs": [],
   "source": [
    "# Calculamos grados por pixel para usar en el gráfico\n",
    "deg_per_px = ancho_zona_mtf_px/angulo_zona_mtf_deg\n"
   ]
  },
  {
   "cell_type": "markdown",
   "metadata": {},
   "source": [
    "$ \\text{MTF}_{\\text{Local}} = \\dfrac{i_{max}-i_{min}}{i_{max}+i_{min}}$"
   ]
  },
  {
   "cell_type": "code",
   "execution_count": null,
   "metadata": {
    "code_folding": [
     4
    ]
   },
   "outputs": [],
   "source": [
    "# medimos el contraste en cada tramo y lo graficamos\n",
    "tramos = np.split(y_est_r, bordes)\n",
    "\n",
    "mtfs = []\n",
    "\n",
    "for tramo in tramos:\n",
    "    i_max = máximo en el tramo\n",
    "    i_min = mínimo en el tramo\n",
    "    mtf = fórmula de mtf como relación de intensidades\n",
    "    mtfs.append(mtf)\n",
    "    print(mtf)\n",
    "    \n",
    "plt.grid(); plt.title('MTF')\n",
    "plt.plot(1/np.array(anchos)*deg_per_px, mtfs, ':o')\n",
    "plt.ylabel('MTF');\n",
    "plt.xlabel('lp/deg');"
   ]
  },
  {
   "cell_type": "markdown",
   "metadata": {},
   "source": [
    "## 5. Propuestas para explorar:\n",
    "\n",
    "1. Probar con otros juegos de barras\n",
    "2. Detectar automáticamente dónde está la zona para sacar MTF y conociendo las barras calcularlo automáticamente\n",
    "3. Probar con fotos de cerca y de lejos y en distintas condiciones de iluminación\n",
    "4. Probar con otros teléfonos o cámaras (por ejemplo cámara frontal de selfie)\n",
    "5. (Ir a algoritmos más avanzados (fft, slanted edge))"
   ]
  },
  {
   "cell_type": "code",
   "execution_count": null,
   "metadata": {},
   "outputs": [],
   "source": []
  }
 ],
 "metadata": {
  "kernelspec": {
   "display_name": "Python 3",
   "language": "python",
   "name": "python3"
  },
  "language_info": {
   "codemirror_mode": {
    "name": "ipython",
    "version": 3
   },
   "file_extension": ".py",
   "mimetype": "text/x-python",
   "name": "python",
   "nbconvert_exporter": "python",
   "pygments_lexer": "ipython3",
   "version": "3.7.7"
  }
 },
 "nbformat": 4,
 "nbformat_minor": 1
}
